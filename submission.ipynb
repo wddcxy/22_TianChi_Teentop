{
 "cells": [
  {
   "cell_type": "markdown",
   "id": "22af0697-19ed-44d4-a696-ca2c3374f842",
   "metadata": {},
   "source": [
    "## 导入所需要的库"
   ]
  },
  {
   "cell_type": "code",
   "execution_count": 1,
   "id": "dd135333-9e43-4712-90b4-4eb02a78bf0a",
   "metadata": {},
   "outputs": [],
   "source": [
    "import pandas as pd\n",
    "import numpy as np\n",
    "import lightgbm\n",
    "from pathlib import Path"
   ]
  },
  {
   "cell_type": "markdown",
   "id": "28824f05-b4e3-4998-9ad3-1e0c80686fd1",
   "metadata": {},
   "source": [
    "## 读取文件路径"
   ]
  },
  {
   "cell_type": "code",
   "execution_count": 2,
   "id": "7398fdba-c01d-4cde-a505-6e60346e7b45",
   "metadata": {},
   "outputs": [],
   "source": [
    "from data import *"
   ]
  },
  {
   "cell_type": "markdown",
   "id": "8b2401ef-604a-4ae8-baf8-779512b83e21",
   "metadata": {},
   "source": [
    "## 加载模型"
   ]
  },
  {
   "cell_type": "code",
   "execution_count": 3,
   "id": "06669181-5fac-4344-8acf-b1993f068a84",
   "metadata": {},
   "outputs": [],
   "source": [
    "assert Path(model_data_path).exists(), '无法找到模型文件，请先运行main.ipynb来生成'\n",
    "model = lightgbm.Booster(model_file=model_data_path)"
   ]
  },
  {
   "cell_type": "markdown",
   "id": "ef1c11f7-0ae9-49ce-ab1f-626821709537",
   "metadata": {},
   "source": [
    "## 处理测试数据"
   ]
  },
  {
   "cell_type": "code",
   "execution_count": 4,
   "id": "73cb492a-26c5-46f1-8dab-e1289d61a040",
   "metadata": {},
   "outputs": [],
   "source": [
    "# 读取测试文件\n",
    "test_df = pd.read_csv(test_data_path)"
   ]
  },
  {
   "cell_type": "code",
   "execution_count": 5,
   "id": "eb60a04c-efc4-46d2-a245-1e9ee01408c0",
   "metadata": {},
   "outputs": [],
   "source": [
    "#聚合到5分钟粒度\n",
    "test_df['collect_time'] = pd.to_datetime(test_df['collect_time']).dt.ceil(\"5min\")\n",
    "#按sum整理一下\n",
    "test_df = test_df.groupby(['serial_number','collect_time'],as_index=False).agg('sum')\n",
    "# 分离出要提交的部分\n",
    "group_min_sn_test = pd.DataFrame(test_df[['serial_number','collect_time']])\n",
    "# 删除无用数据\n",
    "test_df.drop(['serial_number', 'collect_time','manufacturer','vendor'], axis=1, inplace=True)"
   ]
  },
  {
   "cell_type": "code",
   "execution_count": 6,
   "id": "78f8de58-4252-4c00-a865-0b5859db553e",
   "metadata": {},
   "outputs": [],
   "source": [
    "# 预测结果\n",
    "group_min_sn_test['pti'] = np.argmax(model.predict(test_df).round().astype(np.int), axis=1)"
   ]
  },
  {
   "cell_type": "code",
   "execution_count": 7,
   "id": "838b84e8-0e7a-4cb7-890d-cffb89763008",
   "metadata": {
    "tags": []
   },
   "outputs": [],
   "source": [
    "# 去除预测为正常的机器\n",
    "group_min_sn_test = group_min_sn_test[group_min_sn_test['pti'] != 0]"
   ]
  },
  {
   "cell_type": "code",
   "execution_count": 8,
   "id": "18e73603-f12a-4152-a369-c0be578478c1",
   "metadata": {},
   "outputs": [
    {
     "name": "stdout",
     "output_type": "stream",
     "text": [
      "结果已保存，文件位置： C:\\Python Projects\\K12\\result.csv\n"
     ]
    }
   ],
   "source": [
    "# 将结果保存为文件\n",
    "group_min_sn_test.to_csv(output_data_path, header=False, index=False)\n",
    "print('结果已保存，文件位置：', Path(output_data_path).resolve())"
   ]
  }
 ],
 "metadata": {
  "kernelspec": {
   "display_name": "Python 3 (ipykernel)",
   "language": "python",
   "name": "python3"
  },
  "language_info": {
   "codemirror_mode": {
    "name": "ipython",
    "version": 3
   },
   "file_extension": ".py",
   "mimetype": "text/x-python",
   "name": "python",
   "nbconvert_exporter": "python",
   "pygments_lexer": "ipython3",
   "version": "3.9.9"
  }
 },
 "nbformat": 4,
 "nbformat_minor": 5
}
