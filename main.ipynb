{
 "cells": [
  {
   "cell_type": "markdown",
   "metadata": {},
   "source": [
    "## 导入所需要的库"
   ]
  },
  {
   "cell_type": "code",
   "execution_count": 1,
   "metadata": {},
   "outputs": [],
   "source": [
    "import pandas as pd\n",
    "import numpy as np\n",
    "import lightgbm\n",
    "from sklearn.model_selection import train_test_split"
   ]
  },
  {
   "cell_type": "markdown",
   "metadata": {},
   "source": [
    "## 读取文件路径"
   ]
  },
  {
   "cell_type": "code",
   "execution_count": 2,
   "metadata": {},
   "outputs": [],
   "source": [
    "from data import *"
   ]
  },
  {
   "cell_type": "markdown",
   "metadata": {},
   "source": [
    "## 特征工程"
   ]
  },
  {
   "cell_type": "code",
   "execution_count": 3,
   "metadata": {},
   "outputs": [],
   "source": [
    "#读一下数据\n",
    "org_kernel_log = pd.read_csv(kernel_log_data_path)"
   ]
  },
  {
   "cell_type": "code",
   "execution_count": 4,
   "metadata": {},
   "outputs": [],
   "source": [
    "#聚合到5分钟粒度\n",
    "org_kernel_log['collect_time'] = pd.to_datetime(org_kernel_log['collect_time']).dt.ceil(\"5min\")"
   ]
  },
  {
   "cell_type": "code",
   "execution_count": 5,
   "metadata": {},
   "outputs": [],
   "source": [
    "#按sum整理一下\n",
    "group_min = org_kernel_log.groupby(['serial_number','collect_time'],as_index=False).agg('sum')"
   ]
  },
  {
   "cell_type": "code",
   "execution_count": 6,
   "metadata": {},
   "outputs": [],
   "source": [
    "#读取tag文件\n",
    "failure_tag = pd.read_csv(failure_tag_data_path)"
   ]
  },
  {
   "cell_type": "code",
   "execution_count": 7,
   "metadata": {},
   "outputs": [],
   "source": [
    "#链接为一个表\n",
    "failure_tag['failure_time']= pd.to_datetime(failure_tag['failure_time'])\n",
    "merged_data = pd.merge(group_min, failure_tag[['serial_number','failure_time']],how='left',on=['serial_number'])"
   ]
  },
  {
   "cell_type": "code",
   "execution_count": 8,
   "metadata": {},
   "outputs": [
    {
     "name": "stdout",
     "output_type": "stream",
     "text": [
      "filter: 490469 -> 474004\n"
     ]
    }
   ],
   "source": [
    "merged_data['failure_dis']=(merged_data['failure_time'] - merged_data['collect_time']).dt.total_seconds()\n",
    "# 去掉大于1200的数据\n",
    "remove_id = []\n",
    "for sn, tmp_df in merged_data.groupby('serial_number', as_index=False):\n",
    "    if np.min(tmp_df['failure_dis'].values) > 1200:\n",
    "        remove_id.extend(list(tmp_df.index))\n",
    "org_size = merged_data.shape[0]\n",
    "merged_data = merged_data.drop(remove_id).reset_index(drop=True)\n",
    "new_size = merged_data.shape[0]\n",
    "print(\"filter: %d -> %d\" % (org_size, new_size))\n",
    "\n",
    "#以240,480,720,960,1200分割点做多分类lable\n",
    "label = np.zeros(merged_data.shape[0], dtype=int)\n",
    "label[merged_data['failure_dis'] < 240] = 1\n",
    "label[(merged_data['failure_dis'] >= 240) & (merged_data['failure_dis'] < 480)] = 2\n",
    "label[(merged_data['failure_dis'] >= 480) & (merged_data['failure_dis'] < 720)] = 3\n",
    "label[(merged_data['failure_dis'] >= 720) & (merged_data['failure_dis'] < 960)] = 4\n",
    "label[(merged_data['failure_dis'] >= 960) & (merged_data['failure_dis'] < 1200)] = 5\n",
    "    \n",
    "merged_data['failure_tag'] = label\n",
    "merged_data.drop('failure_dis', axis=1, inplace=True)"
   ]
  },
  {
   "cell_type": "code",
   "execution_count": 9,
   "metadata": {},
   "outputs": [],
   "source": [
    "feature_data = merged_data.drop(['serial_number', 'collect_time','manufacturer','vendor','failure_time'], axis=1)\n",
    "# 负样本下采样\n",
    "sample_0 = feature_data[feature_data['failure_tag']==0].sample(frac=0.1)\n",
    "sample = sample_0.append(feature_data[feature_data['failure_tag']!=0])"
   ]
  },
  {
   "cell_type": "code",
   "execution_count": 10,
   "metadata": {},
   "outputs": [],
   "source": [
    "# 切分训练集和测试集\n",
    "x_train, x_test, y_train, y_test = train_test_split(sample.iloc[:,:-1], sample['failure_tag'], test_size=0.05)"
   ]
  },
  {
   "cell_type": "code",
   "execution_count": 11,
   "metadata": {},
   "outputs": [],
   "source": [
    "# 将数据加载为数据集\n",
    "train_dataset = lightgbm.Dataset(x_train, label=y_train)\n",
    "test_dataset = lightgbm.Dataset(x_test, label=y_test)"
   ]
  },
  {
   "cell_type": "markdown",
   "metadata": {},
   "source": [
    "## 训练模型"
   ]
  },
  {
   "cell_type": "code",
   "execution_count": 12,
   "metadata": {},
   "outputs": [
    {
     "name": "stdout",
     "output_type": "stream",
     "text": [
      "Training until validation scores don't improve for 10 rounds\n",
      "Early stopping, best iteration is:\n",
      "[12]\tvalid_0's multi_error: 0.0243902\n"
     ]
    }
   ],
   "source": [
    "params = {  \n",
    "    'objective': 'multiclass',  \n",
    "    'metric': 'multi_error',  \n",
    "    'num_class' : 7,\n",
    "    'verbose': -1, \n",
    "}\n",
    "model = lightgbm.train(params, train_dataset, valid_sets=[test_dataset],\n",
    "                     callbacks=[lightgbm.early_stopping(10)])"
   ]
  },
  {
   "cell_type": "markdown",
   "metadata": {},
   "source": [
    "### 将模型保存为文件"
   ]
  },
  {
   "cell_type": "code",
   "execution_count": 13,
   "metadata": {},
   "outputs": [
    {
     "data": {
      "text/plain": [
       "<lightgbm.basic.Booster at 0x116815e4b20>"
      ]
     },
     "execution_count": 13,
     "metadata": {},
     "output_type": "execute_result"
    }
   ],
   "source": [
    "model.save_model(model_data_path)"
   ]
  }
 ],
 "metadata": {
  "kernelspec": {
   "display_name": "Python 3 (ipykernel)",
   "language": "python",
   "name": "python3"
  },
  "language_info": {
   "codemirror_mode": {
    "name": "ipython",
    "version": 3
   },
   "file_extension": ".py",
   "mimetype": "text/x-python",
   "name": "python",
   "nbconvert_exporter": "python",
   "pygments_lexer": "ipython3",
   "version": "3.9.9"
  },
  "tianchi_metadata": {
   "competitions": [],
   "datasets": [
    {
     "id": "106526",
     "title": "获取数据集标题失败"
    },
    {
     "id": "114594",
     "title": "“天池·TEENTOP杯”AI少年挑战赛-数据科学挑战赛中级赛道"
    }
   ],
   "description": "",
   "notebookId": "287014",
   "source": "dsw"
  }
 },
 "nbformat": 4,
 "nbformat_minor": 4
}
